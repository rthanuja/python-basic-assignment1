{
 "cells": [
  {
   "cell_type": "code",
   "execution_count": null,
   "id": "f3b42111",
   "metadata": {},
   "outputs": [],
   "source": [
    "1. In the below elements which of them are values or an expression? \n",
    "eg:- values can be integer or string and expressions will be mathematical operators.\n",
    "*            -expression(multiply)\n",
    "'hello'      -value(string)\n",
    " -87.8       -value(float)\n",
    "  -          -expression(subtract)\n",
    "/            -expression(division)         \n",
    "+            -expression(addition)\n",
    "6            -value(integer)"
   ]
  },
  {
   "cell_type": "markdown",
   "id": "05df94e6",
   "metadata": {},
   "source": [
    "2. What is the difference between string and variable?\n",
    "string is a sequence datatype representing a sequence of characters and it is immutable \n",
    "whereas variable is a name that refers to a memory location and the value can be changed during the program execution"
   ]
  },
  {
   "cell_type": "markdown",
   "id": "e0212898",
   "metadata": {},
   "source": [
    "3. Describe three different data types?\n",
    "Numeric datatype: it represents the data that has a numeric value such as\n",
    " integer(contains negative or positive whole numbers without fractions or \n",
    " decimals) ,float(having decimal values),complex(a+bj).\n",
    "Boolean datatype: it reprents one of the two in-built values-\n",
    "    True(1) or False(0)\n",
    "Dictionary datatype: it is unordered collection of datavalues \n",
    "    unlike other datatype which treats single value as an element it holds\n",
    "    a key value pair.\n",
    "    "
   ]
  },
  {
   "cell_type": "markdown",
   "id": "133ad743",
   "metadata": {},
   "source": [
    "4. What is an expression made up of? What do all expressions do?\n",
    "Expression is a combination of operators and operands.\n",
    "They always produce some value or result after execution.\n"
   ]
  },
  {
   "cell_type": "markdown",
   "id": "52da4f94",
   "metadata": {},
   "source": [
    "5. This assignment statements, like spam = 10. What is the difference between an expression and a statement?\n",
    "Expression is a combination of operators and operands which always produce \n",
    "a result or a value when executed.\n",
    "Statement is an instruction that has an effect like creating a variable or displaying a value which may or maynot produce a value.\n",
    "A statement can be an expression but an expression is not a statement\n"
   ]
  },
  {
   "cell_type": "markdown",
   "id": "6df080be",
   "metadata": {},
   "source": [
    "6. After running the following code, what does the variable bacon contain?\n",
    "bacon = 22\n",
    "bacon + 1\n",
    "the variable bacon contain value 22 as the expression is not stored in the variable."
   ]
  },
  {
   "cell_type": "markdown",
   "id": "d902564b",
   "metadata": {},
   "source": [
    "7. What should the values of the following two terms be?\n",
    "'spam' + 'spamspam'\n",
    "'spam'* 3\n",
    "the value would be 'spamspamspam'"
   ]
  },
  {
   "cell_type": "markdown",
   "id": "b16601a3",
   "metadata": {},
   "source": [
    "8. Why is eggs a valid variable name while 100 is invalid?\n",
    "variable name cannot start with a number,it can either start with an\n",
    "alphabet or underscore.so,100 is invalid."
   ]
  },
  {
   "cell_type": "markdown",
   "id": "47f37c10",
   "metadata": {},
   "source": [
    "9. What three functions can be used to get the integer, floating-point number, or string version of a value?\n",
    "int(),float(),str()"
   ]
  },
  {
   "cell_type": "markdown",
   "id": "81fbfafe",
   "metadata": {},
   "source": [
    "10. Why does this expression cause an error? How can you fix it?\n",
    "'I have eaten'+ 99 + 'burritos'.\n",
    "This expression causes an error because str and int cannot be concatenated.\n",
    "there are many ways to fix it:\n",
    "1.we can convert the integer into string\n",
    "    'I have eaten'+ str(99) + 'burritos'. or\n",
    "    'I have eaten'+ '99' + 'burritos'.\n",
    "2.we can use string formatting.\n",
    "    'I have eaten {} 'burritos'.format(99)\n",
    "    "
   ]
  },
  {
   "cell_type": "code",
   "execution_count": null,
   "id": "3449dc9a",
   "metadata": {},
   "outputs": [],
   "source": []
  }
 ],
 "metadata": {
  "kernelspec": {
   "display_name": "Python 3 (ipykernel)",
   "language": "python",
   "name": "python3"
  },
  "language_info": {
   "codemirror_mode": {
    "name": "ipython",
    "version": 3
   },
   "file_extension": ".py",
   "mimetype": "text/x-python",
   "name": "python",
   "nbconvert_exporter": "python",
   "pygments_lexer": "ipython3",
   "version": "3.10.9"
  }
 },
 "nbformat": 4,
 "nbformat_minor": 5
}
